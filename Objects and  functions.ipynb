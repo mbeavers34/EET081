{
 "cells": [
  {
   "cell_type": "markdown",
   "id": "7fe8f544-b673-4670-b143-d4b71183c258",
   "metadata": {},
   "source": [
    "# Lesson: Introduction to Functions and Objects in Python\n",
    "\n",
    "## Objective:\n",
    "By the end of this lesson, students will be able to:\n",
    "cts"
   ]
  },
  {
   "cell_type": "markdown",
   "id": "e0f86084-e2f3-43f8-b546-e9bb849ce522",
   "metadata": {},
   "source": [
    "Understand the concept of functions and their role in modularizing code.\\\n",
    "Define and use functions with parameters and return values.\\\n",
    "Comprehend the fundamentals of object-oriented programming (OOP) and the concept of objects.\\\n",
    "Implement classes, methods, and attributes to create and manipulate objects."
   ]
  },
  {
   "cell_type": "markdown",
   "id": "35a22efa-7805-4f5e-a60b-8041637d012c",
   "metadata": {},
   "source": [
    "**Pre-requisites:**\n",
    "Students should have a basic understanding of Python syntax, including variables, data types, and control structures like loops and conditionals.\n",
    "\n",
    "**Materials:**\n",
    "    Jupyter Notebook environment or Python IDE"
   ]
  },
  {
   "cell_type": "markdown",
   "id": "e6c30f7f-de70-486b-b1b6-960cc118bb59",
   "metadata": {},
   "source": [
    "\n",
    "## Introduction to Functions:\n",
    "\n",
    "**Functions** are reusable blocks of code that perform specific tasks   Advantages include code organization, readability, and reusabili\n",
    "ues.\n"
   ]
  },
  {
   "cell_type": "markdown",
   "id": "ee626ceb-56d4-446d-8b5b-a435cc318b01",
   "metadata": {},
   "source": [
    "**Syntax:** def function_name(parameters):\\\n",
    "**Parameters**, arguments, and return values."
   ]
  },
  {
   "cell_type": "code",
   "execution_count": 1,
   "id": "2996e524-d795-405b-8d47-d1acc3d74a4f",
   "metadata": {},
   "outputs": [
    {
     "name": "stdout",
     "output_type": "stream",
     "text": [
      "Hello, welcome to the lesson on functions!\n"
     ]
    }
   ],
   "source": [
    "# Run this code\n",
    "def greet():\n",
    "    print(\"Hello, welcome to the lesson on functions!\")\n",
    "\n",
    "# Call the function\n",
    "greet()"
   ]
  },
  {
   "cell_type": "markdown",
   "id": "6ea09681-ac92-4f2b-8ec0-9f140496cf9b",
   "metadata": {},
   "source": [
    "```python\n",
    "\n",
    "# Run this code\n",
    "def greet():                                             #Create a function called greet\n",
    "    print(\"Hello, welcome to the lesson on functions!\")  #The code block for the function\n",
    "\n",
    "# Call the function\n",
    "greet()                                                   #This 'calls' and runs the function\n",
    "```"
   ]
  },
  {
   "cell_type": "markdown",
   "id": "25c1c027-6d6b-4552-b0c1-c0fa39248dbc",
   "metadata": {},
   "source": [
    "### def\n",
    "```python\n",
    "def greet():\n",
    "\n",
    "```\n",
    "Notice that we start with the **def** statement (which stands for define)\\\n",
    "Also notice that after greet is an upen and closed parenthasis and a colon **():**\\\n",
    "The colon tells us this is the end of the function defenition\n",
    "\n"
   ]
  },
  {
   "cell_type": "markdown",
   "id": "743bebe7-3839-41db-a342-498674fe4a52",
   "metadata": {},
   "source": [
    "Let's make some small modifications to our greet () function by adding (name) and customizeing the print code on line 5 \n",
    "### arguments\n",
    "```python\n",
    "def greet(name):\n",
    "    print(\"Hello, \" + name + \"!\")\n",
    "```\n",
    "By adding the variable 'name' to the function definition we now have a function with **parameters**\n",
    "When we 'call' the function using something like\n",
    "```python\n",
    "greet(\"Ben\")\n",
    "```\n",
    "We will pass the word '\"Ben\" to the function.\\\n",
    "The function will put the word \"Ben\" into the variable called name. \n",
    "Remember, we used the variable 'name' between the parenthasis?\n",
    "```python\n",
    "def greet(name):\n",
    "```\n",
    "Everytime the function greet comes to tj=he the variable 'name' it will contain the word \"Ben\"\n",
    "so, when we\n",
    "```python\n",
    "print(\"Hello, \" + name + \"!\")\n",
    "```\n",
    "it will print :Hello, Ben!\n"
   ]
  },
  {
   "cell_type": "code",
   "execution_count": 15,
   "id": "a13cbd08-281b-4db3-a358-9559d72df93a",
   "metadata": {},
   "outputs": [
    {
     "name": "stdout",
     "output_type": "stream",
     "text": [
      "Hello, Alice!\n"
     ]
    }
   ],
   "source": [
    "#Try it\n",
    "\n",
    "def greet(name):\n",
    "    print(\"Hello, \" + name + \"!\")\n",
    "\n",
    "# Call the function with argument\n",
    "greet(\"Alice\")     # Feel free to change this to something else"
   ]
  },
  {
   "cell_type": "markdown",
   "id": "ee9a33ea-7668-4c4d-a8bf-9ce002dfa0a3",
   "metadata": {},
   "source": [
    "We can also do something like this below.\n",
    "There is more here than what you might think.\n",
    "### return"
   ]
  },
  {
   "cell_type": "code",
   "execution_count": 16,
   "id": "d96e8f44-a45e-4765-91b7-c4aeb80010fb",
   "metadata": {},
   "outputs": [
    {
     "name": "stdout",
     "output_type": "stream",
     "text": [
      "The sum is: 8\n"
     ]
    }
   ],
   "source": [
    "def add(a, b):\n",
    "    return a + b\n",
    "\n",
    "# Call the function and store the result\n",
    "result = add(3, 5)\n",
    "print(\"The sum is:\", result)"
   ]
  },
  {
   "cell_type": "markdown",
   "id": "a2d807b7-4e58-42e1-9181-c881952d79b9",
   "metadata": {},
   "source": [
    "```python\n",
    "def add(a, b):\n",
    "    return a + b\n",
    "```\n",
    "We now have two parameters for our add() function. a and b\\\n",
    "We also have a return function.\\\n",
    "The a,b parameters or arguments as they are called let's us get information into our function.\\\n",
    "The 'return' lets us send infomation back out.\n",
    "\n",
    "```python\n",
    " return a + b\n",
    "```\n",
    "The 'a' variable and the 'b' variable will get added together and then be returned or sentback to our function.  To capture and store this returned information we use a statement like this:  \n",
    "\n",
    "```python\n",
    "result = add(3, 5)\n",
    "```\n",
    "add is the function, 3 and 5 are our arguments. This 'calls' or runs the code in the function add.\n",
    "The 3 is stored in variable a\n",
    "the 5 is stored in variable b\n",
    "a and b are added together.\n",
    "result is the variable that stores the value returned by function. In this case its 8.\n",
    "\n"
   ]
  },
  {
   "cell_type": "markdown",
   "id": "1fb70f86-bef6-4b67-9a70-fe8619a7dd2d",
   "metadata": {},
   "source": [
    "\n",
    "## Introduction to Objects and Classes:\n",
    "\n",
    "Objects are instances of classes encapsulating data and behavior.\\\n",
    "Classes are blueprints for creating objects with attributes and methods.\\\n",
    "Advantages of OOP: code organization, abstraction, and code reuse."
   ]
  },
  {
   "cell_type": "code",
   "execution_count": null,
   "id": "dca9c3a2-ae7f-4a19-a6aa-1e9751bb3178",
   "metadata": {},
   "outputs": [],
   "source": [
    "class Dog:\n",
    "    def __init__(self, name, breed):\n",
    "        self.name = name\n",
    "        self.breed = breed\n",
    "\n",
    "    def bark(self):\n",
    "        print(self.name + \" says: Woof!\")\n",
    "        # Create an instance of Dog class\n",
    "my_dog = Dog(\"Buddy\", \"Golden Retriever\")\n",
    "\n",
    "# Access attributes and call methods\n",
    "print(\"My dog's name is\", my_dog.name, \"He is a\", my_dog.breed )\n",
    "my_dog.bark()"
   ]
  },
  {
   "cell_type": "markdown",
   "id": "2a09b413-038f-416b-bf18-714852956479",
   "metadata": {},
   "source": [
    "I had been programming for years in varius capacities when I started to learn JAVA programming. It was my first introduction to OOP. Understanding OOP (Object oriented programming) was the hardest thing I had ever done.  I realized later that most of the problem was understanding a new vocabulary. Classes, instances, attributes, methods and constructors were the words used to describe an OOP object, but I really didn't understand what those words meant as they related to OOP. It was literally a foreign language to me. What made it worse was that I thought my previous programming background would have made it easy to understand.  It is with this understanding of how OOP can seem difficult that I will begin to prep you to understand and be able to use OOP and it's advantages. \n",
    "Let's create a class.\n"
   ]
  },
  {
   "cell_type": "code",
   "execution_count": null,
   "id": "135d9b70-ad3e-474d-b6ee-18ea426eadea",
   "metadata": {},
   "outputs": [],
   "source": [
    "# Run this\n",
    "class Dog:\n",
    "    def __init__(self, name, breed):\n",
    "        self.name = name\n",
    "        self.breed = breed\n",
    "\n",
    "    def bark(self):\n",
    "        print(self.name + \" says: Woof!\")\n",
    "\n",
    "# Create an instance of Dog class\n",
    "my_dog = Dog(\"Buddy\", \"Golden Retriever\")\n",
    "\n",
    "# Access attributes and call methods\n",
    "print(\"My dog's name is\", my_dog.name)\n",
    "my_dog.bark()"
   ]
  },
  {
   "cell_type": "markdown",
   "id": "130e6e48-e92b-4b9f-bb6d-db7218f7051e",
   "metadata": {},
   "source": [
    "If you were going to write a program for dog groomers, you might want to create a class called Dog. \n",
    "A class will let you store lots of information about dogs such as name and breed, but also let you create functions that may be unique for Dogs. If you remeber you just finished making an add() function a few cells above. \n",
    "### class\n",
    "```python\n",
    "class Dog:\n",
    "    def __init__(self, name, breed):\n",
    "        self.name = name\n",
    "        self.breed = breed\n",
    "```\n",
    "\n",
    "We start off with\n",
    "```python\n",
    "class Dog:\n",
    "```\n",
    "Which is how we tell the computer we want to store and use information about Dog:\n",
    "\n",
    "### def __init__\n",
    "```python\n",
    "    def __init__(self, name, breed):\n",
    "```\n",
    "This line is similar to our def statement when we created functions, but you will notice the \n",
    "```python\n",
    "        __init__\n",
    "```\n",
    "This is called the constructor method. Whenever you create a class, you probably also want a constructor.\n",
    "```python\n",
    "    def __init__(self, name, breed):\n",
    "```\n",
    "We also have self,name, and breed inside the parentheses. This too is similar to the fuctions you created earlier. \n",
    "\n",
    "```python\n",
    "class Dog:\n",
    "    def __init__(self, name, breed):\n",
    "        self.name = name\n",
    "        self.breed = breed\n",
    "\n",
    "# Create an instance of Dog class\n",
    "my_dog = Dog(\"Buddy\", \"Golden Retriever\")\n",
    "```\n",
    "In this code snippet we see we have created a class called Dog. Now, jump down to the last line\n",
    "```python\n",
    "my_dog = Dog(\"Buddy\", \"Golden Retriever\")\n",
    "```\n",
    "We are getting ready to enter a real dog into our program. We call the Dog class and the constructor takes my_dog and assigns it to self,  \"Buddy and assigns it as the 'name' and assigns \"Golden Retriever\" to breed.  \n",
    "\n",
    "This lets us do use dot notation so that if I print my_dog.name I get \"Buddy\".\n",
    "```python\n",
    "print(\"My dog's name is\", my_dog.name)\n",
    "\n"
   ]
  },
  {
   "cell_type": "markdown",
   "id": "64630294-9683-486c-93f2-61b7109ddb16",
   "metadata": {},
   "source": [
    "### method - dot notation \n",
    "You will also notice that the class lets us create a function (a.k.a. a 'method' when inside of a class) that is related specifically to my_dog.\\\n",
    "\n",
    "```python\n",
    "       def bark(self):\n",
    "        print(self.name + \" says: Woof!\")\n",
    "```"
   ]
  },
  {
   "cell_type": "markdown",
   "id": "389d0294-ed26-4008-bbfe-d67d61916d6c",
   "metadata": {},
   "source": [
    "We can use dot notation again and run my_dog.bark()./\n",
    "Bark() in this case is called a method. Methods are basically functions that are part of a class,\n",
    "### OOP example 1"
   ]
  },
  {
   "cell_type": "code",
   "execution_count": null,
   "id": "6ee9905a-a7ad-4b0f-be3b-7af2db7e2975",
   "metadata": {},
   "outputs": [],
   "source": [
    "\n",
    "class Dog:\n",
    "    def __init__(self, name, breed):\n",
    "        self.name = name\n",
    "        self.breed = breed\n",
    "\n",
    "    def bark(self):  # this is called a method when part of a class. It's a function when no class is needed. \n",
    "        print(self.name + \" says: Woof!\")\n",
    "        # Create an instance of Dog class\n",
    "my_dog = Dog(\"Buddy\", \"Golden Retriever\")\n",
    "your_dog =Dog(\"Lady\", \"Black Lab\")\n",
    "\n",
    "# Access attributes and call methods\n",
    "print(\"My dog's name is\", my_dog.name, \"He is a\", my_dog.breed )\n",
    "my_dog.bark()\n",
    "\n",
    "print(\"Your dog's name is\", your_dog.name, \"She is a\", your_dog.breed )\n",
    "your_dog.bark()"
   ]
  },
  {
   "cell_type": "markdown",
   "id": "e34eee30-8568-4537-b57f-1306db876c95",
   "metadata": {},
   "source": [
    "### OOP example 2"
   ]
  },
  {
   "cell_type": "code",
   "execution_count": null,
   "id": "d2ff9f6a-de44-4e17-a8f9-4de673e0b561",
   "metadata": {},
   "outputs": [],
   "source": [
    "### OOP example 2\n",
    "class Rectangle:\n",
    "    def __init__(self, length, width):\n",
    "        self.length = length\n",
    "        self.width = width\n",
    "\n",
    "    def area(self):\n",
    "        return self.length * self.width\n",
    "\n",
    "# Create an instance of Rectangle class\n",
    "my_rectangle = Rectangle(5, 4)\n",
    "\n",
    "# Access attributes and call methods\n",
    "print(\"Area of the rectangle:\", my_rectangle.area())"
   ]
  },
  {
   "cell_type": "markdown",
   "id": "f67673c6-5b08-4411-bbd9-3e99043edff4",
   "metadata": {},
   "source": [
    "### OOP example 3"
   ]
  },
  {
   "cell_type": "code",
   "execution_count": null,
   "id": "ab3253c0-72db-4811-8d2c-29ed85c56e23",
   "metadata": {},
   "outputs": [],
   "source": [
    "\n",
    "class Employee:\n",
    "    def __init__(self, name, age, grade):\n",
    "        self.name = name\n",
    "        self.age = age\n",
    "        self.grade = grade\n",
    "    \n",
    "    def get_info(self):\n",
    "        \"\"\"Get employee information.\"\"\"\n",
    "        return f\"Name: {self.name}, Age: {self.age}, Grade: {self.grade}\"\n",
    "\n",
    "# Create instances of Employee: class - Sets the value\n",
    "employee1 = Employee(\"Alice\", 35, \"G10\")\n",
    "employee2 = Employee(\"Bob\", 46, \"G11\")\n",
    "\n",
    "# Display Employee: information - get the value\n",
    "print(\"Employee: 1:\", employee1.get_info())\n",
    "print(\"Employee: 2:\", employee2.get_info())\n",
    "\n",
    "print(\"Employee: 2:\", employee2.age)\n",
    "print(\"Employee: 1:\", employee1.grade)"
   ]
  },
  {
   "cell_type": "markdown",
   "id": "0cfe3413-9491-4f3a-8e3e-c42b95080bcc",
   "metadata": {},
   "source": [
    "## Assignments"
   ]
  },
  {
   "cell_type": "markdown",
   "id": "77417494-659f-43a1-b07c-12f3fc7da34e",
   "metadata": {},
   "source": [
    "### **Assignment #1:**  Functions\n",
    " Create a function called 'multiply'.\\\n",
    " You must pass two numbers (parameters) into the function and they will be multiplied.\\\n",
    " You must return the product using the return statement.  "
   ]
  },
  {
   "cell_type": "code",
   "execution_count": null,
   "id": "bda97d6a-fc94-4784-ab97-e2c7dc4bb3f3",
   "metadata": {},
   "outputs": [],
   "source": [
    "#Name\n",
    "#Date\n",
    "#Progarm name xx6-1\n",
    "#Description\n",
    "\n",
    "rectangle_area = calculate_area(5, 3)\n",
    "print(\"Area of the rectangle:\", rectangle_area)"
   ]
  },
  {
   "cell_type": "markdown",
   "id": "4d2c0011-b8e2-4500-8e99-95d0b05b3c11",
   "metadata": {},
   "source": [
    "### **Assignment #2:** Function Parameters and Return Values\n",
    "\n",
    "Write a Python function called convert_temperature that converts temperature from Celsius to Fahrenheit.\\\n",
    "The function should take a temperature value in Celsius as a parameter and return the equivalent temperature in Fahrenheit.\\\n",
    "Test the function by converting temperatures such as 0°C, 25°C, and 100°C to Fahrenheit."
   ]
  },
  {
   "cell_type": "code",
   "execution_count": null,
   "id": "9b9503cf-ca85-4a56-940f-2ac5d76f2a15",
   "metadata": {},
   "outputs": [],
   "source": [
    "#Name\n",
    "#Date\n",
    "#Progarm name xx6-2\n",
    "#Description\n",
    "\n",
    "\n",
    "celsius_temperature = 25\n",
    "fahrenheit_temperature = convert_temperature(celsius_temperature)\n",
    "print(\"Temperature in Fahrenheit:\", fahrenheit_temperature)"
   ]
  },
  {
   "cell_type": "markdown",
   "id": "3d8949e0-9192-4bc8-a7c7-00fb4e2fe81c",
   "metadata": {},
   "source": [
    "### **Assignment #3:** Introduction to Objects and Classes\n",
    "\n",
    "Define a Python class called Student to represent students. The class should have attributes such as name, age, and grade.\\\n",
    "Write methods to set and get the values of these attributes.\\\n",
    "Create instances of the Student class and use the methods to set and retrieve student information.\\"
   ]
  },
  {
   "cell_type": "code",
   "execution_count": null,
   "id": "7e276f66-deb2-4f99-98c1-f532325e28f8",
   "metadata": {},
   "outputs": [],
   "source": [
    "#Name\n",
    "#Date\n",
    "#Progarm name xx6-3\n",
    "#Description\n",
    "\n",
    "\n",
    "student1 = Student(\"Betty\", 15, \"10\")\n",
    "Student2 = Student(\"Howard\", 17, \"12\")\n",
    "\n",
    "\n",
    "print(\"Student 1:\", student1.get_info())\n",
    "print(\"Student 2:\", student2.get_info())\n",
    "\n",
    "print(\"Student 2:\", student2.age)\n",
    "print(\"Student 1:\", student1.grade)"
   ]
  },
  {
   "cell_type": "markdown",
   "id": "99d0b912-cc99-49d7-b4dc-72fb149df74d",
   "metadata": {},
   "source": [
    "https://app.diagrams.net/\n"
   ]
  },
  {
   "cell_type": "code",
   "execution_count": null,
   "id": "b2a1bf5f-f8c5-4899-acfe-346bd93086df",
   "metadata": {},
   "outputs": [],
   "source": [
    "Homework"
   ]
  }
 ],
 "metadata": {
  "kernelspec": {
   "display_name": "Python 3 (ipykernel)",
   "language": "python",
   "name": "python3"
  },
  "language_info": {
   "codemirror_mode": {
    "name": "ipython",
    "version": 3
   },
   "file_extension": ".py",
   "mimetype": "text/x-python",
   "name": "python",
   "nbconvert_exporter": "python",
   "pygments_lexer": "ipython3",
   "version": "3.9.7"
  }
 },
 "nbformat": 4,
 "nbformat_minor": 5
}
