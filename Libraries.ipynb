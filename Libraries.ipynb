{
 "cells": [
  {
   "cell_type": "markdown",
   "id": "24fc10fa",
   "metadata": {},
   "source": [
    "# Lesson: Introduction to basic libraries in Python\n",
    "\n",
    "## Objective:\n",
    "By the end of this lesson, students will be able to:\n"
   ]
  },
  {
   "cell_type": "markdown",
   "id": "aa132221",
   "metadata": {},
   "source": [
    "Understand the basics of NumPy, Matplotlib, Seaborn, and Pandas.\\\n",
    "Learn how to manipulate data, visualize it, and perform basic data analysis tasks."
   ]
  },
  {
   "cell_type": "markdown",
   "id": "8a1249ab",
   "metadata": {},
   "source": [
    "## NumPy \n",
    "(or Numerical Python) is the fundamental package for scientific computing with Python. It provides support for arrays, matrices, and mathematical functions.\n"
   ]
  },
  {
   "cell_type": "code",
   "execution_count": null,
   "id": "a97b45e4",
   "metadata": {},
   "outputs": [],
   "source": [
    "import numpy as np\n",
    "#imports the numpy (num-pie) library and renames it np for short \n",
    "print('imported numpy as np')\n"
   ]
  },
  {
   "cell_type": "code",
   "execution_count": null,
   "id": "6d85bc5e",
   "metadata": {},
   "outputs": [],
   "source": [
    "# Creating a NumPy array\n",
    "arr = np.array([1, 2, 3, 4, 5])\n",
    "print(\"NumPy Array:\", arr)\n",
    "\n"
   ]
  },
  {
   "cell_type": "code",
   "execution_count": null,
   "id": "a69c894d",
   "metadata": {},
   "outputs": [],
   "source": [
    "# Basic operations\n",
    "print(\"Sum:\", np.sum(arr))\n",
    "print(\"Mean:\", np.mean(arr))\n",
    "print(\"Max:\", np.max(arr))\n",
    "\n"
   ]
  },
  {
   "cell_type": "code",
   "execution_count": null,
   "id": "5062d024",
   "metadata": {},
   "outputs": [],
   "source": [
    "# Generating arrays\n",
    "zeros_arr = np.zeros((2, 3))  # 2x3 array of zeros\n",
    "ones_arr = np.ones((3, 2))    # 3x2 array of ones\n",
    "print(\"zeros_arr:\")\n",
    "print(zeros_arr)\n",
    "print(\"ones_arr:\")\n",
    "print(ones_arr)\n"
   ]
  },
  {
   "cell_type": "code",
   "execution_count": null,
   "id": "f70e50f4",
   "metadata": {},
   "outputs": [],
   "source": [
    "# Array operations\n",
    "arr1 = np.array([[1, 2], [3, 4]])\n",
    "arr2 = np.array([[5, 6], [7, 8]])\n",
    "print(\"Array Addition:\")\n",
    "# The first two elements are added together 1+5 = 6 the second two 2+8 = 8, etc\n",
    "print(arr1 + arr2)"
   ]
  },
  {
   "cell_type": "markdown",
   "id": "71df8a93",
   "metadata": {},
   "source": [
    "# Matplotlib\n",
    "Matplotlib is a plotting library for creating static, interactive, and animated visualizations in Python."
   ]
  },
  {
   "cell_type": "code",
   "execution_count": null,
   "id": "754b5243",
   "metadata": {},
   "outputs": [],
   "source": [
    "import matplotlib.pyplot as plt\n",
    "print('matplotlib.pyplot as plt')\n",
    "\n"
   ]
  },
  {
   "cell_type": "markdown",
   "id": "488653a3",
   "metadata": {},
   "source": [
    "Use NumPy to create the array and get the sin values.\\\n",
    "Use matplotlib - plt, to plot the values"
   ]
  },
  {
   "cell_type": "code",
   "execution_count": null,
   "id": "8c1d2f60",
   "metadata": {},
   "outputs": [],
   "source": [
    "# Line plot\n",
    "x = np.linspace(0, 10, 100) # use NumPy to create an array called x,\n",
    "#that contains 100 numbers that start at 0 and end at 10\n",
    "y = np.sin(x)           # get the sine of each x\n",
    "plt.plot(x, y)          # plot the x and y values\n",
    "plt.title('Sine Wave')\n",
    "plt.xlabel('X-axis')\n",
    "plt.ylabel('Y-axis')\n",
    "plt.show()              # show the plt\n",
    "\n"
   ]
  },
  {
   "cell_type": "markdown",
   "id": "efdf5126",
   "metadata": {},
   "source": [
    "We can also use NumPy to creat random numbers.\\\n",
    "And use plt to do a scatter diagram"
   ]
  },
  {
   "cell_type": "code",
   "execution_count": null,
   "id": "88f711a6",
   "metadata": {},
   "outputs": [],
   "source": [
    "# Scatter plot\n",
    "x = np.random.rand(50)\n",
    "y = np.random.rand(50)\n",
    "plt.scatter(x, y)\n",
    "plt.title('Random Scatter Plot')\n",
    "plt.xlabel('X-axis')\n",
    "plt.ylabel('Y-axis')\n",
    "plt.show()"
   ]
  },
  {
   "cell_type": "markdown",
   "id": "0eaa42e4",
   "metadata": {},
   "source": [
    "## Seaborn\n",
    "**Seaborn** is a Python visualization library based on Matplotlib. It provides a high-level interface for drawing attractive and informative statistical graphics.\\"
   ]
  },
  {
   "cell_type": "code",
   "execution_count": null,
   "id": "f65d112d",
   "metadata": {},
   "outputs": [],
   "source": [
    "import seaborn as sns"
   ]
  },
  {
   "cell_type": "code",
   "execution_count": null,
   "id": "7652fcc1",
   "metadata": {},
   "outputs": [],
   "source": [
    "tips = sns.load_dataset(\"tips\") # load a file called tips\n",
    "                                # This file is buit in so we can do some testing\n",
    "print(tips)"
   ]
  },
  {
   "cell_type": "code",
   "execution_count": null,
   "id": "5dab1294",
   "metadata": {},
   "outputs": [],
   "source": [
    "# Scatter plot with Seaborn\n",
    "sns.scatterplot(data=tips, x=\"total_bill\", y=\"tip\", hue=\"time\")\n",
    "plt.title('Total Bill vs Tip')\n",
    "plt.xlabel('Total Bill')\n",
    "plt.ylabel('Tip')\n",
    "plt.show()"
   ]
  },
  {
   "cell_type": "code",
   "execution_count": null,
   "id": "bd3701ad",
   "metadata": {},
   "outputs": [],
   "source": [
    "# Distribution plot\n",
    "sns.histplot(data=tips, x=\"total_bill\", kde=True)\n",
    "plt.title('Distribution of Total Bill')\n",
    "plt.xlabel('Total Bill')\n",
    "plt.ylabel('Frequency')\n",
    "plt.show()"
   ]
  },
  {
   "cell_type": "markdown",
   "id": "a4486d16",
   "metadata": {},
   "source": [
    "I'm sure by now you can see that rather than having to create a program to do statistical math like Numpy, or do graphing and charting like Seaborn or matplotlib, it is much easier just to import the library.\\\n",
    "Trust me, we didn't even scrath the surface of the power of these librarys but then again you will probably never need to know or use all of the features. "
   ]
  },
  {
   "cell_type": "markdown",
   "id": "85ae95d4",
   "metadata": {},
   "source": [
    "## Pandas\n",
    "**Pandas** is a fast, powerful, and flexible open-source data analysis and manipulation library built on top of Python.\n",
    "When dealing with large files like are used for image classification (Think jetbot collision avoidance) pandas is a great option."
   ]
  },
  {
   "cell_type": "code",
   "execution_count": null,
   "id": "df799a14",
   "metadata": {},
   "outputs": [],
   "source": [
    "import pandas as pd\n",
    "print(\"import pandas as pd\")"
   ]
  },
  {
   "cell_type": "code",
   "execution_count": null,
   "id": "755243c5",
   "metadata": {},
   "outputs": [],
   "source": [
    "# Creating a DataFrame\n",
    "# A dataframe is something like an excel spread sheet\n",
    "data = {'Name': ['Alice', 'Bob', 'Charlie', 'David'],\n",
    "        'Age': [25, 30, 35, 40],\n",
    "        'Salary': [50000, 60000, 70000, 80000]}\n",
    "df = pd.DataFrame(data) # rename the dataframe df for short\n",
    "print(\"DataFrame:\")\n",
    "print(df)"
   ]
  },
  {
   "cell_type": "markdown",
   "id": "2b71db4d",
   "metadata": {},
   "source": [
    "pandas has built in functions to easily find the mean and max, to sort data, and to group that data."
   ]
  },
  {
   "cell_type": "code",
   "execution_count": null,
   "id": "df60bf7e",
   "metadata": {},
   "outputs": [],
   "source": [
    "# Basic DataFrame operations\n",
    "print(\"Mean Salary:\", df['Salary'].mean()) \n",
    "print(\"Maximum Age:\", df['Age'].max())\n"
   ]
  },
  {
   "cell_type": "code",
   "execution_count": null,
   "id": "49575878",
   "metadata": {},
   "outputs": [],
   "source": [
    "# Filtering data\n",
    "print(\"Employees older than 30:\")\n",
    "print(df[df['Age'] > 30])\n",
    "\n",
    "\n"
   ]
  },
  {
   "cell_type": "code",
   "execution_count": null,
   "id": "160f1b8d",
   "metadata": {},
   "outputs": [],
   "source": [
    "# Grouping and aggregation\n",
    "print(\"Average salary by age:\")\n",
    "print(df.groupby('Age')['Salary'].mean())"
   ]
  },
  {
   "cell_type": "code",
   "execution_count": null,
   "id": "a57ba9c7",
   "metadata": {},
   "outputs": [],
   "source": [
    "# Data visualization with Pandas\n",
    "df.plot(kind='bar', x='Name', y='Salary', title='Employee Salaries')\n",
    "plt.xlabel('Name')\n",
    "plt.ylabel('Salary')\n",
    "plt.show()"
   ]
  },
  {
   "cell_type": "markdown",
   "id": "851f1db9",
   "metadata": {},
   "source": [
    "## 1 NumPy Exercises\n",
    "Create a NumPy array with random integers and perform basic statistical operations on it.\n",
    "It should look something like this when completed.\\\n",
    "Your numbers will vary.\\\n",
    "Random Array: [ 2 41 92 23  5 32 95 52 16 55]\\\n",
    "Sum: 413\\\n",
    "Mean: 41.3\\\n",
    "Max: 95"
   ]
  },
  {
   "cell_type": "code",
   "execution_count": null,
   "id": "9c9ba7d9",
   "metadata": {},
   "outputs": [],
   "source": [
    "import numpy as np\n",
    "random_array = np.random.randint(start, stop, how many)\n",
    "print(\"Random Array:\", random_array)\n",
    "print(\"Sum:\", np.sum(random_array))\n",
    "# Print the mean\n",
    "# Print the max"
   ]
  },
  {
   "attachments": {
    "image.png": {
     "image/png": "[encoded data removed]"
    }
   },
   "cell_type": "markdown",
   "id": "0b4d79d2",
   "metadata": {},
   "source": [
    "## 2 Matplotlib Exercises\n",
    "Plot the graph of a mathematical function (e.g., quadratic) using Matplotlib.\\\n",
    "It should look like this.\\\n",
    "![image.png](attachment:image.png)"
   ]
  },
  {
   "cell_type": "code",
   "execution_count": null,
   "id": "077b6250",
   "metadata": {},
   "outputs": [],
   "source": [
    "#import matpltlib and name it plt\n",
    "#Start = -5, stop =5, amount =100\n",
    "x = np.linspace(start, stop, amount)\n",
    "y = x ** 2\n",
    "plt.plot(x, y)\n",
    "plt.title('Quadratic Function')\n",
    "plt.xlabel('X-axis')\n",
    "plt.ylabel('Y-axis')\n",
    "plt.show()"
   ]
  },
  {
   "attachments": {
    "image.png": {
     "image/png": "[encoded data removed]"
    }
   },
   "cell_type": "markdown",
   "id": "efbf2bd2",
   "metadata": {},
   "source": [
    "## 3 Seaborn Exercises\n",
    "Load a dataset and create a box plot showing the distribution of a numerical variable.\\\n",
    "![image.png](attachment:image.png)"
   ]
  },
  {
   "cell_type": "code",
   "execution_count": null,
   "id": "4c2f6643",
   "metadata": {},
   "outputs": [],
   "source": [
    "#import seaborn as sns\n",
    "iris = sns.load_dataset(\"iris\")\n",
    "print(iris)\n",
    "# use this for line 5: data = iris, x='species', y='petal_length'\n",
    "sns.boxplot(data=, x=, y=)\n",
    "plt.title('Petal Length Distribution by Species')\n",
    "plt.xlabel('Species')\n",
    "plt.ylabel('Petal Length')\n",
    "plt.show()"
   ]
  },
  {
   "attachments": {
    "image.png": {
     "image/png": "[encoded data removed]"
    }
   },
   "cell_type": "markdown",
   "id": "7ca492e5",
   "metadata": {},
   "source": [
    "## 4 Pandas Exercises\n",
    "Read a CSV file into a DataFrame and display the first few rows.\\\n",
    "You will need to uncomment row 3 and row 13.\\\n",
    "Your output should look like this.\\\n",
    "![image.png](attachment:image.png)"
   ]
  },
  {
   "cell_type": "code",
   "execution_count": null,
   "id": "bb89f942",
   "metadata": {},
   "outputs": [],
   "source": [
    "# import pandas as pd\n",
    "df = pd.read_csv('https://raw.githubusercontent.com/mwaskom/seaborn-data/master/tips.csv')\n",
    "print(\"First Few Rows of DataFrame:\")\n",
    "# print(df.head()) \n",
    "\n",
    "# Perform data cleaning operations such as handling missing values or removing duplicates from a DataFrame.\n",
    "# Here we'll remove duplicates\n",
    "df_cleaned = df.drop_duplicates()\n",
    "print(\"Original DataFrame Shape:\", df.shape)\n",
    "print(\"DataFrame Shape after Removing Duplicates:\", df_cleaned.shape)\n",
    "\n",
    "# Calculate summary statistics (e.g., mean, median, standard deviation) for numerical columns in a DataFrame.\n",
    "print(\"Summary Statistics:\")\n",
    "# print(df.describe())"
   ]
  },
  {
   "cell_type": "code",
   "execution_count": null,
   "id": "c4c237f5",
   "metadata": {},
   "outputs": [],
   "source": []
  }
 ],
 "metadata": {
  "kernelspec": {
   "display_name": "Python 3 (ipykernel)",
   "language": "python",
   "name": "python3"
  },
  "language_info": {
   "codemirror_mode": {
    "name": "ipython",
    "version": 3
   },
   "file_extension": ".py",
   "mimetype": "text/x-python",
   "name": "python",
   "nbconvert_exporter": "python",
   "pygments_lexer": "ipython3",
   "version": "3.9.7"
  }
 },
 "nbformat": 4,
 "nbformat_minor": 5
}
